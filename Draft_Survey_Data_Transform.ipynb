{
 "cells": [
  {
   "cell_type": "code",
   "execution_count": 2,
   "metadata": {},
   "outputs": [],
   "source": [
    "import pandas as pd\n",
    "\n"
   ]
  },
  {
   "cell_type": "code",
   "execution_count": 3,
   "metadata": {},
   "outputs": [
    {
     "data": {
      "text/html": [
       "<div>\n",
       "<style scoped>\n",
       "    .dataframe tbody tr th:only-of-type {\n",
       "        vertical-align: middle;\n",
       "    }\n",
       "\n",
       "    .dataframe tbody tr th {\n",
       "        vertical-align: top;\n",
       "    }\n",
       "\n",
       "    .dataframe thead th {\n",
       "        text-align: right;\n",
       "    }\n",
       "</style>\n",
       "<table border=\"1\" class=\"dataframe\">\n",
       "  <thead>\n",
       "    <tr style=\"text-align: right;\">\n",
       "      <th></th>\n",
       "      <th>Unique ID</th>\n",
       "      <th>Email</th>\n",
       "      <th>Date Taken (America/New_York)</th>\n",
       "      <th>Time Taken (America/New_York)</th>\n",
       "      <th>Browser</th>\n",
       "      <th>OS</th>\n",
       "      <th>City</th>\n",
       "      <th>Country</th>\n",
       "      <th>Referrer</th>\n",
       "      <th>Time Spent</th>\n",
       "      <th>...</th>\n",
       "      <th>Q6 - How Happy are you in your Current Position with the following? (Management)</th>\n",
       "      <th>Q6 - How Happy are you in your Current Position with the following? (Upward Mobility)</th>\n",
       "      <th>Q6 - How Happy are you in your Current Position with the following? (Learning New Things)</th>\n",
       "      <th>Q7 - How difficult was it for you to break into Data?</th>\n",
       "      <th>Q8 - If you were to look for a new job today, what would be the most important thing to you?</th>\n",
       "      <th>Q9 - Male/Female?</th>\n",
       "      <th>Q10 - Current Age</th>\n",
       "      <th>Q11 - Which Country do you live in?</th>\n",
       "      <th>Q12 - Highest Level of Education</th>\n",
       "      <th>Q13 - Ethnicity</th>\n",
       "    </tr>\n",
       "  </thead>\n",
       "  <tbody>\n",
       "    <tr>\n",
       "      <th>0</th>\n",
       "      <td>62a33b3db4da29969c62df3d</td>\n",
       "      <td>anonymous</td>\n",
       "      <td>6/10/2022</td>\n",
       "      <td>8:38</td>\n",
       "      <td>NaN</td>\n",
       "      <td>NaN</td>\n",
       "      <td>NaN</td>\n",
       "      <td>NaN</td>\n",
       "      <td>NaN</td>\n",
       "      <td>0:00:44</td>\n",
       "      <td>...</td>\n",
       "      <td>5.0</td>\n",
       "      <td>5.0</td>\n",
       "      <td>7.0</td>\n",
       "      <td>Very Difficult</td>\n",
       "      <td>Remote Work</td>\n",
       "      <td>Male</td>\n",
       "      <td>26</td>\n",
       "      <td>United States</td>\n",
       "      <td>NaN</td>\n",
       "      <td>White or Caucasian</td>\n",
       "    </tr>\n",
       "    <tr>\n",
       "      <th>1</th>\n",
       "      <td>62a33ba1bae91e4b8b82e35c</td>\n",
       "      <td>anonymous</td>\n",
       "      <td>6/10/2022</td>\n",
       "      <td>8:40</td>\n",
       "      <td>NaN</td>\n",
       "      <td>NaN</td>\n",
       "      <td>NaN</td>\n",
       "      <td>NaN</td>\n",
       "      <td>NaN</td>\n",
       "      <td>0:01:30</td>\n",
       "      <td>...</td>\n",
       "      <td>2.0</td>\n",
       "      <td>1.0</td>\n",
       "      <td>3.0</td>\n",
       "      <td>Very Difficult</td>\n",
       "      <td>Remote Work</td>\n",
       "      <td>Male</td>\n",
       "      <td>36</td>\n",
       "      <td>Canada</td>\n",
       "      <td>NaN</td>\n",
       "      <td>Asian or Asian American</td>\n",
       "    </tr>\n",
       "    <tr>\n",
       "      <th>2</th>\n",
       "      <td>62a33c2cbc6861bf3176bec1</td>\n",
       "      <td>anonymous</td>\n",
       "      <td>6/10/2022</td>\n",
       "      <td>8:42</td>\n",
       "      <td>NaN</td>\n",
       "      <td>NaN</td>\n",
       "      <td>NaN</td>\n",
       "      <td>NaN</td>\n",
       "      <td>NaN</td>\n",
       "      <td>0:02:18</td>\n",
       "      <td>...</td>\n",
       "      <td>5.0</td>\n",
       "      <td>7.0</td>\n",
       "      <td>7.0</td>\n",
       "      <td>Easy</td>\n",
       "      <td>Good Work/Life Balance</td>\n",
       "      <td>Male</td>\n",
       "      <td>23</td>\n",
       "      <td>Other (Please Specify):Nigeria</td>\n",
       "      <td>NaN</td>\n",
       "      <td>Black or African American</td>\n",
       "    </tr>\n",
       "    <tr>\n",
       "      <th>3</th>\n",
       "      <td>62a33c8624a26260273822f9</td>\n",
       "      <td>anonymous</td>\n",
       "      <td>6/10/2022</td>\n",
       "      <td>8:43</td>\n",
       "      <td>NaN</td>\n",
       "      <td>NaN</td>\n",
       "      <td>NaN</td>\n",
       "      <td>NaN</td>\n",
       "      <td>NaN</td>\n",
       "      <td>0:02:10</td>\n",
       "      <td>...</td>\n",
       "      <td>10.0</td>\n",
       "      <td>7.0</td>\n",
       "      <td>10.0</td>\n",
       "      <td>Very Easy</td>\n",
       "      <td>Remote Work</td>\n",
       "      <td>Female</td>\n",
       "      <td>35</td>\n",
       "      <td>Canada</td>\n",
       "      <td>NaN</td>\n",
       "      <td>White or Caucasian</td>\n",
       "    </tr>\n",
       "    <tr>\n",
       "      <th>4</th>\n",
       "      <td>62a33c91f3072dd892621e03</td>\n",
       "      <td>anonymous</td>\n",
       "      <td>6/10/2022</td>\n",
       "      <td>8:44</td>\n",
       "      <td>NaN</td>\n",
       "      <td>NaN</td>\n",
       "      <td>NaN</td>\n",
       "      <td>NaN</td>\n",
       "      <td>NaN</td>\n",
       "      <td>0:01:51</td>\n",
       "      <td>...</td>\n",
       "      <td>4.0</td>\n",
       "      <td>0.0</td>\n",
       "      <td>1.0</td>\n",
       "      <td>Difficult</td>\n",
       "      <td>Better Salary</td>\n",
       "      <td>Male</td>\n",
       "      <td>44</td>\n",
       "      <td>United States</td>\n",
       "      <td>NaN</td>\n",
       "      <td>Black or African American</td>\n",
       "    </tr>\n",
       "  </tbody>\n",
       "</table>\n",
       "<p>5 rows × 28 columns</p>\n",
       "</div>"
      ],
      "text/plain": [
       "                  Unique ID      Email Date Taken (America/New_York)  \\\n",
       "0  62a33b3db4da29969c62df3d  anonymous                     6/10/2022   \n",
       "1  62a33ba1bae91e4b8b82e35c  anonymous                     6/10/2022   \n",
       "2  62a33c2cbc6861bf3176bec1  anonymous                     6/10/2022   \n",
       "3  62a33c8624a26260273822f9  anonymous                     6/10/2022   \n",
       "4  62a33c91f3072dd892621e03  anonymous                     6/10/2022   \n",
       "\n",
       "  Time Taken (America/New_York)  Browser  OS  City  Country  Referrer  \\\n",
       "0                          8:38      NaN NaN   NaN      NaN       NaN   \n",
       "1                          8:40      NaN NaN   NaN      NaN       NaN   \n",
       "2                          8:42      NaN NaN   NaN      NaN       NaN   \n",
       "3                          8:43      NaN NaN   NaN      NaN       NaN   \n",
       "4                          8:44      NaN NaN   NaN      NaN       NaN   \n",
       "\n",
       "  Time Spent  ...  \\\n",
       "0    0:00:44  ...   \n",
       "1    0:01:30  ...   \n",
       "2    0:02:18  ...   \n",
       "3    0:02:10  ...   \n",
       "4    0:01:51  ...   \n",
       "\n",
       "  Q6 - How Happy are you in your Current Position with the following? (Management)  \\\n",
       "0                                                5.0                                 \n",
       "1                                                2.0                                 \n",
       "2                                                5.0                                 \n",
       "3                                               10.0                                 \n",
       "4                                                4.0                                 \n",
       "\n",
       "  Q6 - How Happy are you in your Current Position with the following? (Upward Mobility)  \\\n",
       "0                                                5.0                                      \n",
       "1                                                1.0                                      \n",
       "2                                                7.0                                      \n",
       "3                                                7.0                                      \n",
       "4                                                0.0                                      \n",
       "\n",
       "  Q6 - How Happy are you in your Current Position with the following? (Learning New Things)  \\\n",
       "0                                                7.0                                          \n",
       "1                                                3.0                                          \n",
       "2                                                7.0                                          \n",
       "3                                               10.0                                          \n",
       "4                                                1.0                                          \n",
       "\n",
       "  Q7 - How difficult was it for you to break into Data?  \\\n",
       "0                                     Very Difficult      \n",
       "1                                     Very Difficult      \n",
       "2                                               Easy      \n",
       "3                                          Very Easy      \n",
       "4                                          Difficult      \n",
       "\n",
       "  Q8 - If you were to look for a new job today, what would be the most important thing to you?  \\\n",
       "0                                        Remote Work                                             \n",
       "1                                        Remote Work                                             \n",
       "2                             Good Work/Life Balance                                             \n",
       "3                                        Remote Work                                             \n",
       "4                                      Better Salary                                             \n",
       "\n",
       "   Q9 - Male/Female?  Q10 - Current Age  Q11 - Which Country do you live in?  \\\n",
       "0               Male                 26                        United States   \n",
       "1               Male                 36                               Canada   \n",
       "2               Male                 23       Other (Please Specify):Nigeria   \n",
       "3             Female                 35                               Canada   \n",
       "4               Male                 44                        United States   \n",
       "\n",
       "   Q12 - Highest Level of Education            Q13 - Ethnicity  \n",
       "0                               NaN         White or Caucasian  \n",
       "1                               NaN    Asian or Asian American  \n",
       "2                               NaN  Black or African American  \n",
       "3                               NaN         White or Caucasian  \n",
       "4                               NaN  Black or African American  \n",
       "\n",
       "[5 rows x 28 columns]"
      ]
     },
     "execution_count": 3,
     "metadata": {},
     "output_type": "execute_result"
    }
   ],
   "source": [
    "data = \"Survey_Data_Raw.csv\"\n",
    "\n",
    "df = pd.read_csv(data)\n",
    "\n",
    "df.head()"
   ]
  },
  {
   "cell_type": "code",
   "execution_count": 4,
   "metadata": {},
   "outputs": [
    {
     "data": {
      "text/plain": [
       "Index(['Unique ID', 'Email', 'Date Taken (America/New_York)',\n",
       "       'Time Taken (America/New_York)', 'Browser', 'OS', 'City', 'Country',\n",
       "       'Referrer', 'Time Spent',\n",
       "       'Q1 - Which Title Best Fits your Current Role?',\n",
       "       'Q2 - Did you switch careers into Data?',\n",
       "       'Q3 - Current Yearly Salary (in USD)',\n",
       "       'Q4 - What Industry do you work in?',\n",
       "       'Q5 - Favorite Programming Language',\n",
       "       'Q6 - How Happy are you in your Current Position with the following? (Salary)',\n",
       "       'Q6 - How Happy are you in your Current Position with the following? (Work/Life Balance)',\n",
       "       'Q6 - How Happy are you in your Current Position with the following? (Coworkers)',\n",
       "       'Q6 - How Happy are you in your Current Position with the following? (Management)',\n",
       "       'Q6 - How Happy are you in your Current Position with the following? (Upward Mobility)',\n",
       "       'Q6 - How Happy are you in your Current Position with the following? (Learning New Things)',\n",
       "       'Q7 - How difficult was it for you to break into Data?',\n",
       "       'Q8 - If you were to look for a new job today, what would be the most important thing to you?',\n",
       "       'Q9 - Male/Female?', 'Q10 - Current Age',\n",
       "       'Q11 - Which Country do you live in?',\n",
       "       'Q12 - Highest Level of Education', 'Q13 - Ethnicity'],\n",
       "      dtype='object')"
      ]
     },
     "execution_count": 4,
     "metadata": {},
     "output_type": "execute_result"
    }
   ],
   "source": [
    "df.columns"
   ]
  },
  {
   "cell_type": "code",
   "execution_count": 5,
   "metadata": {},
   "outputs": [
    {
     "data": {
      "text/plain": [
       "Index(['Unique ID', 'Date Taken (America/New_York)',\n",
       "       'Time Taken (America/New_York)', 'Time Spent',\n",
       "       'Q1 - Which Title Best Fits your Current Role?',\n",
       "       'Q2 - Did you switch careers into Data?',\n",
       "       'Q3 - Current Yearly Salary (in USD)',\n",
       "       'Q4 - What Industry do you work in?',\n",
       "       'Q5 - Favorite Programming Language',\n",
       "       'Q6 - How Happy are you in your Current Position with the following? (Salary)',\n",
       "       'Q6 - How Happy are you in your Current Position with the following? (Work/Life Balance)',\n",
       "       'Q6 - How Happy are you in your Current Position with the following? (Coworkers)',\n",
       "       'Q6 - How Happy are you in your Current Position with the following? (Management)',\n",
       "       'Q6 - How Happy are you in your Current Position with the following? (Upward Mobility)',\n",
       "       'Q6 - How Happy are you in your Current Position with the following? (Learning New Things)',\n",
       "       'Q7 - How difficult was it for you to break into Data?',\n",
       "       'Q8 - If you were to look for a new job today, what would be the most important thing to you?',\n",
       "       'Q9 - Male/Female?', 'Q10 - Current Age',\n",
       "       'Q11 - Which Country do you live in?',\n",
       "       'Q12 - Highest Level of Education', 'Q13 - Ethnicity'],\n",
       "      dtype='object')"
      ]
     },
     "execution_count": 5,
     "metadata": {},
     "output_type": "execute_result"
    }
   ],
   "source": [
    "df = df.drop(['Email','Browser', 'OS', 'City', 'Country',\n",
    "       'Referrer'], axis=1)\n",
    "\n",
    "df.columns"
   ]
  },
  {
   "cell_type": "markdown",
   "metadata": {},
   "source": [
    "Cleaning Q5 - Favorite Programming Language"
   ]
  },
  {
   "cell_type": "code",
   "execution_count": 6,
   "metadata": {},
   "outputs": [
    {
     "data": {
      "text/plain": [
       "52"
      ]
     },
     "execution_count": 6,
     "metadata": {},
     "output_type": "execute_result"
    }
   ],
   "source": [
    "# find all lines of text with the string 'sql' case insensitive \n",
    "p = '(?i)SQL'\n",
    "len(df[df['Q5 - Favorite Programming Language'].str.contains(p)])"
   ]
  },
  {
   "cell_type": "code",
   "execution_count": 7,
   "metadata": {},
   "outputs": [],
   "source": [
    "#SQL loc\n",
    "#value count check matches \n",
    "\n",
    "df.loc[df['Q5 - Favorite Programming Language'].str.contains('SQL', case=False), 'Q5 - Favorite Programming Language'] = 'SQL'"
   ]
  },
  {
   "cell_type": "code",
   "execution_count": 8,
   "metadata": {},
   "outputs": [
    {
     "data": {
      "text/plain": [
       "2"
      ]
     },
     "execution_count": 8,
     "metadata": {},
     "output_type": "execute_result"
    }
   ],
   "source": [
    "# check instance vba and excel \n",
    "# 5 combined  \n",
    "p = '(?i)vba'\n",
    "len(df[df['Q5 - Favorite Programming Language'].str.contains(p)])"
   ]
  },
  {
   "cell_type": "code",
   "execution_count": 9,
   "metadata": {},
   "outputs": [],
   "source": [
    "#excel and vba loc\n",
    "#value count check matches \n",
    "\n",
    "df.loc[df['Q5 - Favorite Programming Language'].str.contains('excel|vba', case=False), 'Q5 - Favorite Programming Language'] = 'Excel'"
   ]
  },
  {
   "cell_type": "code",
   "execution_count": 10,
   "metadata": {},
   "outputs": [
    {
     "data": {
      "text/plain": [
       "1"
      ]
     },
     "execution_count": 10,
     "metadata": {},
     "output_type": "execute_result"
    }
   ],
   "source": [
    "#check instance of 'don't', 'none', 'unknown', 'not' and 'na' \n",
    "p = \"(?i)not\"\n",
    "len(df[df['Q5 - Favorite Programming Language'].str.contains(p)])"
   ]
  },
  {
   "cell_type": "code",
   "execution_count": 11,
   "metadata": {},
   "outputs": [],
   "source": [
    "# loc of 'don't', 'none', 'unknown', 'not' and 'na' \n",
    "\n",
    "df.loc[df['Q5 - Favorite Programming Language'].str.contains('don|none|unknown|not|na', case=False), 'Q5 - Favorite Programming Language'] = 'None'"
   ]
  },
  {
   "cell_type": "code",
   "execution_count": 12,
   "metadata": {},
   "outputs": [],
   "source": [
    "# loc dax 5\n",
    "df.loc[df['Q5 - Favorite Programming Language'].str.contains('dax', case=False), 'Q5 - Favorite Programming Language'] = 'DAX'"
   ]
  },
  {
   "cell_type": "code",
   "execution_count": 13,
   "metadata": {},
   "outputs": [],
   "source": [
    "#loc sas 2\n",
    "df.loc[df['Q5 - Favorite Programming Language'].str.contains('sas', case=False), 'Q5 - Favorite Programming Language'] = 'SAS'"
   ]
  },
  {
   "cell_type": "code",
   "execution_count": 14,
   "metadata": {},
   "outputs": [],
   "source": [
    "#all other instances have a count of 1, so reduce to 'other' \n",
    "\n",
    "df.loc[df['Q5 - Favorite Programming Language'].str.contains('other', case=False), 'Q5 - Favorite Programming Language'] = 'Other'"
   ]
  },
  {
   "cell_type": "code",
   "execution_count": 24,
   "metadata": {},
   "outputs": [
    {
     "data": {
      "text/plain": [
       "Q5 - Favorite Programming Language\n",
       "Python        420\n",
       "R             101\n",
       "SQL            52\n",
       "Other          17\n",
       "None           14\n",
       "C/C++           7\n",
       "JavaScript      6\n",
       "DAX             5\n",
       "Excel           5\n",
       "SAS             2\n",
       "Java            1\n",
       "dtype: int64"
      ]
     },
     "execution_count": 24,
     "metadata": {},
     "output_type": "execute_result"
    }
   ],
   "source": [
    "df.value_counts('Q5 - Favorite Programming Language')"
   ]
  },
  {
   "cell_type": "markdown",
   "metadata": {},
   "source": [
    "Title"
   ]
  },
  {
   "cell_type": "code",
   "execution_count": 30,
   "metadata": {},
   "outputs": [],
   "source": [
    "titles = pd.DataFrame(data = df.value_counts('Q1 - Which Title Best Fits your Current Role?'))"
   ]
  },
  {
   "cell_type": "code",
   "execution_count": 31,
   "metadata": {},
   "outputs": [
    {
     "data": {
      "text/html": [
       "<div>\n",
       "<style scoped>\n",
       "    .dataframe tbody tr th:only-of-type {\n",
       "        vertical-align: middle;\n",
       "    }\n",
       "\n",
       "    .dataframe tbody tr th {\n",
       "        vertical-align: top;\n",
       "    }\n",
       "\n",
       "    .dataframe thead th {\n",
       "        text-align: right;\n",
       "    }\n",
       "</style>\n",
       "<table border=\"1\" class=\"dataframe\">\n",
       "  <thead>\n",
       "    <tr style=\"text-align: right;\">\n",
       "      <th></th>\n",
       "      <th>0</th>\n",
       "    </tr>\n",
       "    <tr>\n",
       "      <th>Q1 - Which Title Best Fits your Current Role?</th>\n",
       "      <th></th>\n",
       "    </tr>\n",
       "  </thead>\n",
       "  <tbody>\n",
       "    <tr>\n",
       "      <th>Data Analyst</th>\n",
       "      <td>381</td>\n",
       "    </tr>\n",
       "    <tr>\n",
       "      <th>Student/Looking/None</th>\n",
       "      <td>90</td>\n",
       "    </tr>\n",
       "    <tr>\n",
       "      <th>Data Engineer</th>\n",
       "      <td>38</td>\n",
       "    </tr>\n",
       "    <tr>\n",
       "      <th>Data Scientist</th>\n",
       "      <td>25</td>\n",
       "    </tr>\n",
       "    <tr>\n",
       "      <th>Other (Please Specify):Business Analyst</th>\n",
       "      <td>6</td>\n",
       "    </tr>\n",
       "    <tr>\n",
       "      <th>...</th>\n",
       "      <td>...</td>\n",
       "    </tr>\n",
       "    <tr>\n",
       "      <th>Other (Please Specify):Data Steward</th>\n",
       "      <td>1</td>\n",
       "    </tr>\n",
       "    <tr>\n",
       "      <th>Other (Please Specify):Data Scientist Intern</th>\n",
       "      <td>1</td>\n",
       "    </tr>\n",
       "    <tr>\n",
       "      <th>Other (Please Specify):Data Manager</th>\n",
       "      <td>1</td>\n",
       "    </tr>\n",
       "    <tr>\n",
       "      <th>Other (Please Specify):Data Integrity</th>\n",
       "      <td>1</td>\n",
       "    </tr>\n",
       "    <tr>\n",
       "      <th>Other (Please Specify):Finance Analyst</th>\n",
       "      <td>1</td>\n",
       "    </tr>\n",
       "  </tbody>\n",
       "</table>\n",
       "<p>83 rows × 1 columns</p>\n",
       "</div>"
      ],
      "text/plain": [
       "                                                 0\n",
       "Q1 - Which Title Best Fits your Current Role?     \n",
       "Data Analyst                                   381\n",
       "Student/Looking/None                            90\n",
       "Data Engineer                                   38\n",
       "Data Scientist                                  25\n",
       "Other (Please Specify):Business Analyst          6\n",
       "...                                            ...\n",
       "Other (Please Specify):Data Steward              1\n",
       "Other (Please Specify):Data Scientist Intern     1\n",
       "Other (Please Specify):Data Manager              1\n",
       "Other (Please Specify):Data Integrity            1\n",
       "Other (Please Specify):Finance Analyst           1\n",
       "\n",
       "[83 rows x 1 columns]"
      ]
     },
     "execution_count": 31,
     "metadata": {},
     "output_type": "execute_result"
    }
   ],
   "source": [
    "titles"
   ]
  },
  {
   "cell_type": "code",
   "execution_count": 44,
   "metadata": {},
   "outputs": [],
   "source": [
    "titles.reset_index(inplace=False)\n",
    "titles = titles.rename(columns = {'Q1 - Which Title Best Fits your Current Role?':'title', 0:'count'})\n"
   ]
  },
  {
   "cell_type": "code",
   "execution_count": 50,
   "metadata": {},
   "outputs": [
    {
     "name": "stdout",
     "output_type": "stream",
     "text": [
      "                                                title  count\n",
      "0                                        Data Analyst    381\n",
      "1                                Student/Looking/None     90\n",
      "2                                       Data Engineer     38\n",
      "3                                      Data Scientist     25\n",
      "4             Other (Please Specify):Business Analyst      6\n",
      "5                                  Database Developer      5\n",
      "6           Other (Please Specify):Analytics Engineer      4\n",
      "7                                      Data Architect      3\n",
      "8                              Other (Please Specify)      2\n",
      "9            Other (Please Specify):Analytics Manager      2\n",
      "10           Other (Please Specify):Business Analyst       2\n",
      "11               Other (Please Specify):Reporting Adm      1\n",
      "12                 Other (Please Specify):RF Engineer      1\n",
      "13               Other (Please Specify):Product owner      1\n",
      "14          Other (Please Specify):Presales Engineer       1\n",
      "15          Other (Please Specify):Predictive Analyst      1\n",
      "16          Other (Please Specify):Power Bi Developer      1\n",
      "17  Other (Please Specify):Manager of a team of Da...      1\n",
      "18                         Other (Please Specify):PMO      1\n",
      "19   Other (Please Specify):Marketing Data Specialist      1\n",
      "20  Other (Please Specify):Manager, Business Intel...      1\n",
      "21         Other (Please Specify):Research Associate       1\n",
      "22                    Other (Please Specify):Manager       1\n",
      "23  Other (Please Specify):Learning Management Spe...      1\n",
      "24    Other (Please Specify):Junior Software Engineer      1\n",
      "25          Other (Please Specify):Jr. Data Scientist      1\n",
      "26            Other (Please Specify):Research Analyst      1\n",
      "27           Other (Please Specify):Sales & marketing      1\n",
      "28                Other (Please Specify):Researchers       1\n",
      "29        Other (Please Specify):SAP Security Analyst      1\n",
      "30           Other (Please Specify):software engineer      1\n",
      "31               Other (Please Specify):Web Developer      1\n",
      "32          Other (Please Specify):Technical consulta      1\n",
      "33                     Other (Please Specify):Teacher      1\n",
      "34               Other (Please Specify):Tableau admin      1\n",
      "35      Other (Please Specify):Systems configuration       1\n",
      "36        Other (Please Specify):System Administrator      1\n",
      "37            Other (Please Specify):Support Engineer      1\n",
      "38  Other (Please Specify):Student working as a da...      1\n",
      "39   Other (Please Specify):Sr. Supply Chain Analyst       1\n",
      "40            Other (Please Specify):Software support      1\n",
      "41      Other (Please Specify):Software Engineer, AI       1\n",
      "42         Other (Please Specify):Software Developer       1\n",
      "43     Other (Please Specify):Senior Business Analyst      1\n",
      "44            Other (Please Specify):Insights analyst      1\n",
      "45    Other (Please Specify):Investigation specialist      1\n",
      "46           Other (Please Specify):Financial Analyst      1\n",
      "47      Other (Please Specify):Informatics Specialist      1\n",
      "48            Other (Please Specify):Incident Manager      1\n",
      "49           Other (Please Specify):Business analyst       1\n",
      "50  Other (Please Specify):Business Intelligence E...      1\n",
      "51  Other (Please Specify):Business Intelligence D...      1\n",
      "52  Other (Please Specify):Business Intelligence C...      1\n",
      "53  Other (Please Specify):Business Intelligence A...      1\n",
      "54             Other (Please Specify):Business Analys      1\n",
      "55             Other (Please Specify):Billing analyst      1\n",
      "56              Other (Please Specify):BI consultant       1\n",
      "57                  Other (Please Specify):BI Manager      1\n",
      "58               Other (Please Specify):BI Developer       1\n",
      "59       Other (Please Specify):Analytics Consultant       1\n",
      "60  Other (Please Specify):Analyst Primary Market ...      1\n",
      "61                     Other (Please Specify):Analyst      1\n",
      "62              Other (Please Specify):Ads operations      1\n",
      "63             Other (Please Specify):Account manager      1\n",
      "64                  Other (Please Specify):Consultant      1\n",
      "65  Other (Please Specify):Continuous Quality Impr...      1\n",
      "66                         Other (Please Specify):DBA      1\n",
      "67  Other (Please Specify):Director of Data Analytics      1\n",
      "68  Other (Please Specify):I work with data tools ...      1\n",
      "69                Other (Please Specify):GIS Analyst       1\n",
      "70                Other (Please Specify):FP&A Analyst      1\n",
      "71                    Other (Please Specify):Educator      1\n",
      "72                      Other (Please Specify):Driver      1\n",
      "73  Other (Please Specify):Does a social media ana...      1\n",
      "74                    Other (Please Specify):Director      1\n",
      "75            Other (Please Specify):Data Coordinator      1\n",
      "76            Other (Please Specify):Database Manager      1\n",
      "77                Other (Please Specify):Data manager      1\n",
      "78                Other (Please Specify):Data Steward      1\n",
      "79       Other (Please Specify):Data Scientist Intern      1\n",
      "80                Other (Please Specify):Data Manager      1\n",
      "81              Other (Please Specify):Data Integrity      1\n",
      "82            Other (Please Specify):Finance Analyst       1\n"
     ]
    }
   ],
   "source": [
    "with pd.option_context('display.max_rows', None,\n",
    "                       'display.max_columns', None,\n",
    "                       'display.precision', 3,\n",
    "                       ):\n",
    "    print(titles)"
   ]
  },
  {
   "cell_type": "markdown",
   "metadata": {},
   "source": [
    "categories to regroup other: (starting round, then see remaining others)\n",
    "* business intelligence/analyst (other + business | intelligence | bi)\n",
    "* data sci (add to top category) (other + scien)\n",
    "* other analyst (other + analyst NOT business)\n",
    "* software (software)\n"
   ]
  },
  {
   "cell_type": "markdown",
   "metadata": {},
   "source": [
    "list comprehension\n",
    "\n",
    "see ETL clean kaggle data / ETL clean wiki movies \n",
    "\n",
    "or use loc as done in q5 above?\n"
   ]
  },
  {
   "cell_type": "code",
   "execution_count": null,
   "metadata": {},
   "outputs": [],
   "source": []
  },
  {
   "cell_type": "code",
   "execution_count": null,
   "metadata": {},
   "outputs": [],
   "source": []
  },
  {
   "cell_type": "code",
   "execution_count": null,
   "metadata": {},
   "outputs": [],
   "source": []
  },
  {
   "cell_type": "markdown",
   "metadata": {},
   "source": [
    "Industry"
   ]
  },
  {
   "cell_type": "code",
   "execution_count": null,
   "metadata": {},
   "outputs": [],
   "source": []
  },
  {
   "cell_type": "markdown",
   "metadata": {},
   "source": [
    "Country"
   ]
  },
  {
   "cell_type": "code",
   "execution_count": null,
   "metadata": {},
   "outputs": [],
   "source": []
  },
  {
   "attachments": {},
   "cell_type": "markdown",
   "metadata": {},
   "source": [
    "Ethnicity\n"
   ]
  },
  {
   "cell_type": "code",
   "execution_count": null,
   "metadata": {},
   "outputs": [],
   "source": []
  },
  {
   "cell_type": "markdown",
   "metadata": {},
   "source": [
    "Current Yearly Salary"
   ]
  },
  {
   "cell_type": "code",
   "execution_count": null,
   "metadata": {},
   "outputs": [],
   "source": []
  },
  {
   "cell_type": "markdown",
   "metadata": {},
   "source": [
    "Export to CSV"
   ]
  },
  {
   "cell_type": "code",
   "execution_count": null,
   "metadata": {},
   "outputs": [],
   "source": []
  },
  {
   "cell_type": "code",
   "execution_count": null,
   "metadata": {},
   "outputs": [],
   "source": []
  },
  {
   "cell_type": "code",
   "execution_count": null,
   "metadata": {},
   "outputs": [],
   "source": []
  }
 ],
 "metadata": {
  "kernelspec": {
   "display_name": "Python 3.7.11 ('PythonData')",
   "language": "python",
   "name": "python3"
  },
  "language_info": {
   "codemirror_mode": {
    "name": "ipython",
    "version": 3
   },
   "file_extension": ".py",
   "mimetype": "text/x-python",
   "name": "python",
   "nbconvert_exporter": "python",
   "pygments_lexer": "ipython3",
   "version": "3.7.11 (default, Jul 27 2021, 09:42:29) [MSC v.1916 64 bit (AMD64)]"
  },
  "orig_nbformat": 4,
  "vscode": {
   "interpreter": {
    "hash": "28427c923396388cc89c1304cba47da92d99870a4169954e652672e188c532e5"
   }
  }
 },
 "nbformat": 4,
 "nbformat_minor": 2
}
